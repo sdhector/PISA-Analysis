{
 "cells": [
  {
   "cell_type": "markdown",
   "metadata": {},
   "source": [
    "# PISA Analysis: Data Extraction"
   ]
  },
  {
   "cell_type": "markdown",
   "metadata": {},
   "source": [
    "## Technical Setup"
   ]
  },
  {
   "cell_type": "code",
   "execution_count": 6,
   "metadata": {},
   "outputs": [],
   "source": [
    "import os \n",
    "import pandas as pd\n",
    "from sas7bdat import SAS7BDAT\n",
    "path = r\"D:\\Data Science Folder\\PISA Analysis\\Data\\2018\""
   ]
  },
  {
   "cell_type": "markdown",
   "metadata": {},
   "source": [
    "# Exporting the data to CSV\n",
    "While Pandas can read the data, it was not possible to read it into memory. I use the package SAS7BDAT to export the files to CSV. They can afterwards be read as CSV normally. "
   ]
  },
  {
   "cell_type": "code",
   "execution_count": 9,
   "metadata": {},
   "outputs": [
    {
     "name": "stdout",
     "output_type": "stream",
     "text": [
      "Directory D:\\BigQueryDatabase\\PISA\\2018  already exists\n"
     ]
    }
   ],
   "source": [
    "ReadPath = r\"D:\\Data Science Folder\\PISA Analysis\\Data\" \n",
    "Folder = [\"01 - Student Questionnaire\", \n",
    "          \"02 - Cognitive Item\", \n",
    "          \"03 - Teacher Questionnaire\", \n",
    "          \"04 - School Questionnaire\", \n",
    "          \"05 - Questionnaire Timing\"]\n",
    "FileName = [\"cy07_msu_stu_qqq.sas7bdat\", \n",
    "            \"cy07_msu_stu_cog.sas7bdat\", \n",
    "            \"cy07_msu_tch_qqq.sas7bdat\", \n",
    "            \"cy07_msu_sch_qqq.sas7bdat\", \n",
    "            \"cy07_msu_stu_tim.sas7bdat\"]\n",
    "\n",
    "DataYear = 2018\n",
    "WritePath = r\"D:\\BigQueryDatabase\\PISA\" \n",
    "WritePath = os.path.join(WritePath,str(DataYear))\n",
    "if not os.path.exists(WritePath):\n",
    "    os.makedirs(WritePath)\n",
    "    print('Created directory:', WritePath)\n",
    "else:\n",
    "    print('Directory', WritePath, 'already exists')\n",
    "\n",
    "for i in range(0,len(FileName)):\n",
    "    # read the file\n",
    "    readpath = os.path.join(ReadPath,Folder[i],FileName[i])\n",
    "    reader = SAS7BDAT(readpath)\n",
    "    \n",
    "    # convert to csv\n",
    "    writepath = os.path.join(WritePath,FileName[i].replace('sas7bdat','csv'))\n",
    "    reader.convert_file(writepath)"
   ]
  }
 ],
 "metadata": {
  "kernelspec": {
   "display_name": "Python 3",
   "language": "python",
   "name": "python3"
  },
  "language_info": {
   "codemirror_mode": {
    "name": "ipython",
    "version": 3
   },
   "file_extension": ".py",
   "mimetype": "text/x-python",
   "name": "python",
   "nbconvert_exporter": "python",
   "pygments_lexer": "ipython3",
   "version": "3.7.7"
  }
 },
 "nbformat": 4,
 "nbformat_minor": 4
}
