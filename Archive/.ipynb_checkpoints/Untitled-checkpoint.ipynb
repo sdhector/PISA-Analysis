{
 "cells": [
  {
   "cell_type": "code",
   "execution_count": 3,
   "metadata": {},
   "outputs": [],
   "source": [
    "import pandas as pd"
   ]
  },
  {
   "cell_type": "code",
   "execution_count": 5,
   "metadata": {},
   "outputs": [],
   "source": [
    "import pyreadstat as sas"
   ]
  },
  {
   "cell_type": "code",
   "execution_count": 7,
   "metadata": {},
   "outputs": [
    {
     "data": {
      "text/plain": [
       "\u001b[1;31mDocstring:\u001b[0m\n",
       "Read a SAS sas7bcat file. The returning dataframe will be empty. The metadata object will contain a dictionary\n",
       "value_labels that contains the formats. When parsing the sas7bdat file, in the metadata, the dictionary\n",
       "variable_to_label contains a map from variable name to the formats.\n",
       "In order to apply the catalog to the sas7bdat file use set_catalog_to_sas or pass the catalog file as an argument\n",
       "to read_sas7bdat directly.\n",
       "SAS catalog files are difficult ones, some of them can be read only in specific SAS version, may contain strange\n",
       "encodings etc. Therefore it may be that many catalog files are not readable from this application.\n",
       "\n",
       "Parameters\n",
       "----------\n",
       "    filename_path : str\n",
       "        path to the file. The string is assumed to be utf-8 encoded\n",
       "    encoding : str, optional\n",
       "        Defaults to None. If set, the system will use the defined encoding instead of guessing it. It has to be an\n",
       "        iconv-compatible name\n",
       "\n",
       "Returns\n",
       "-------\n",
       "    data_frame : pandas dataframe\n",
       "        a pandas data frame with the data (no data in this case, so will be empty)\n",
       "    metadata :\n",
       "        object with metadata. The member value_labels is the one that contains the formats.\n",
       "        Look at the documentation for more information.\n",
       "\u001b[1;31mType:\u001b[0m      builtin_function_or_method\n"
      ]
     },
     "metadata": {},
     "output_type": "display_data"
    }
   ],
   "source": [
    "sas.read_sas7bcat?"
   ]
  },
  {
   "cell_type": "code",
   "execution_count": 67,
   "metadata": {},
   "outputs": [],
   "source": [
    "from os.path import join\n",
    "path = r'D:\\Data Science Folder\\PISA Analysis\\Data\\2018\\2018_Cognitive_Item_Data_Files'\n",
    "DataFile = 'cy07_msu_stu_cog.sas7bdat'\n",
    "CatFile = 'CY07MSU_FMT_STU_COG.SAS7BCAT'"
   ]
  },
  {
   "cell_type": "code",
   "execution_count": 68,
   "metadata": {},
   "outputs": [],
   "source": [
    "Catalogue = sas.read_sas7bcat(filename_path = join(path,CatFile), \n",
    "                            encoding = 'utf-8')\n",
    "Catalogue = Catalogue[1]"
   ]
  },
  {
   "cell_type": "code",
   "execution_count": null,
   "metadata": {},
   "outputs": [],
   "source": [
    "[DataFrame, MetaData] = (\n",
    "    sas.read_sas7bdat(\n",
    "        filename_path = join(path,DataFile), \n",
    "        catalog_file = join(path,DataFile), \n",
    "        encoding = 'utf-8'\n",
    "        \n",
    "    )\n",
    ")"
   ]
  },
  {
   "cell_type": "code",
   "execution_count": null,
   "metadata": {},
   "outputs": [],
   "source": [
    "DataFrame.head()"
   ]
  },
  {
   "cell_type": "code",
   "execution_count": null,
   "metadata": {},
   "outputs": [],
   "source": [
    "sas.set_catalog_to_sas(DataFrame, MetaData, Catalogue)[0].head()"
   ]
  }
 ],
 "metadata": {
  "kernelspec": {
   "display_name": "Python 3",
   "language": "python",
   "name": "python3"
  },
  "language_info": {
   "codemirror_mode": {
    "name": "ipython",
    "version": 3
   },
   "file_extension": ".py",
   "mimetype": "text/x-python",
   "name": "python",
   "nbconvert_exporter": "python",
   "pygments_lexer": "ipython3",
   "version": "3.7.7"
  }
 },
 "nbformat": 4,
 "nbformat_minor": 4
}
